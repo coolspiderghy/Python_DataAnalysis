{
 "cells": [
  {
   "cell_type": "code",
   "execution_count": 1,
   "metadata": {
    "ExecuteTime": {
     "end_time": "2017-12-12T11:30:24.581304Z",
     "start_time": "2017-12-12T11:30:17.503465Z"
    }
   },
   "outputs": [
    {
     "name": "stderr",
     "output_type": "stream",
     "text": [
      "/Users/genghaiyang/anaconda2/envs/gluon/lib/python2.7/site-packages/statsmodels/compat/pandas.py:56: FutureWarning: The pandas.core.datetools module is deprecated and will be removed in a future version. Please use the pandas.tseries module instead.\n",
      "  from pandas.core import datetools\n"
     ]
    },
    {
     "name": "stdout",
     "output_type": "stream",
     "text": [
      "                            OLS Regression Results                            \n",
      "==============================================================================\n",
      "Dep. Variable:                Lottery   R-squared:                       0.348\n",
      "Model:                            OLS   Adj. R-squared:                  0.333\n",
      "Method:                 Least Squares   F-statistic:                     22.20\n",
      "Date:                Tue, 12 Dec 2017   Prob (F-statistic):           1.90e-08\n",
      "Time:                        19:30:24   Log-Likelihood:                -379.82\n",
      "No. Observations:                  86   AIC:                             765.6\n",
      "Df Residuals:                      83   BIC:                             773.0\n",
      "Df Model:                           2                                         \n",
      "Covariance Type:            nonrobust                                         \n",
      "===================================================================================\n",
      "                      coef    std err          t      P>|t|      [0.025      0.975]\n",
      "-----------------------------------------------------------------------------------\n",
      "Intercept         246.4341     35.233      6.995      0.000     176.358     316.510\n",
      "Literacy           -0.4889      0.128     -3.832      0.000      -0.743      -0.235\n",
      "np.log(Pop1831)   -31.3114      5.977     -5.239      0.000     -43.199     -19.424\n",
      "==============================================================================\n",
      "Omnibus:                        3.713   Durbin-Watson:                   2.019\n",
      "Prob(Omnibus):                  0.156   Jarque-Bera (JB):                3.394\n",
      "Skew:                          -0.487   Prob(JB):                        0.183\n",
      "Kurtosis:                       3.003   Cond. No.                         702.\n",
      "==============================================================================\n",
      "\n",
      "Warnings:\n",
      "[1] Standard Errors assume that the covariance matrix of the errors is correctly specified.\n"
     ]
    }
   ],
   "source": [
    "import numpy as np\n",
    "import statsmodels.api as sm\n",
    "import statsmodels.formula.api as smf\n",
    "f\n",
    "results = smf.ols('Lottery ~ Literacy + np.log(Pop1831)', data=dat).fit()\n",
    "print(results.summary())"
   ]
  },
  {
   "cell_type": "code",
   "execution_count": 1,
   "metadata": {
    "ExecuteTime": {
     "end_time": "2017-12-12T13:19:16.021720Z",
     "start_time": "2017-12-12T13:19:14.379289Z"
    }
   },
   "outputs": [
    {
     "name": "stderr",
     "output_type": "stream",
     "text": [
      "/Users/genghaiyang/anaconda2/envs/gluon/lib/python2.7/site-packages/statsmodels/compat/pandas.py:56: FutureWarning: The pandas.core.datetools module is deprecated and will be removed in a future version. Please use the pandas.tseries module instead.\n",
      "  from pandas.core import datetools\n"
     ]
    },
    {
     "name": "stdout",
     "output_type": "stream",
     "text": [
      "                sum_sq     df            F         PR(>F)\n",
      "C(Diet)   1.298761e+05    3.0    33.416570   6.473189e-20\n",
      "Time      2.016357e+06    1.0  1556.400956  1.803038e-165\n",
      "Residual  7.423361e+05  573.0          NaN            NaN\n"
     ]
    }
   ],
   "source": [
    "import pandas as pd\n",
    "import statsmodels.api as sm\n",
    "from statsmodels.formula.api import ols\n",
    "\n",
    "\n",
    "# R code on R sample dataset\n",
    "\n",
    "#> anova(with(ChickWeight, lm(weight ~ Time + Diet)))\n",
    "#Analysis of Variance Table\n",
    "#\n",
    "#Response: weight\n",
    "#           Df  Sum Sq Mean Sq  F value    Pr(>F)\n",
    "#Time        1 2042344 2042344 1576.460 < 2.2e-16 ***\n",
    "#Diet        3  129876   43292   33.417 < 2.2e-16 ***\n",
    "#Residuals 573  742336    1296\n",
    "#write.csv(file='ChickWeight.csv', x=ChickWeight, row.names=F)\n",
    "\n",
    "cw = pd.read_csv('ChickWeight.csv')\n",
    "\n",
    "cw_lm=ols('weight ~ Time + C(Diet)', data=cw).fit() #Specify C for Categorical\n",
    "print(sm.stats.anova_lm(cw_lm, typ=2))\n",
    "#                  sum_sq   df            F         PR(>F)\n",
    "#C(Diet)    129876.056995    3    33.416570   6.473189e-20\n",
    "#Time      2016357.148493    1  1556.400956  1.803038e-165\n",
    "#Residual   742336.119560  573          NaN            NaN"
   ]
  },
  {
   "cell_type": "code",
   "execution_count": null,
   "metadata": {
    "collapsed": true
   },
   "outputs": [],
   "source": []
  }
 ],
 "metadata": {
  "kernelspec": {
   "display_name": "Python 2",
   "language": "python",
   "name": "python2"
  },
  "language_info": {
   "codemirror_mode": {
    "name": "ipython",
    "version": 2
   },
   "file_extension": ".py",
   "mimetype": "text/x-python",
   "name": "python",
   "nbconvert_exporter": "python",
   "pygments_lexer": "ipython2",
   "version": "2.7.14"
  }
 },
 "nbformat": 4,
 "nbformat_minor": 2
}
